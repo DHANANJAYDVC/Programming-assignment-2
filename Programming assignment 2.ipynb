{
 "cells": [
  {
   "cell_type": "markdown",
   "id": "9f39a97f",
   "metadata": {},
   "source": [
    "Q1. Write a Python program to convert kilometers to miles?"
   ]
  },
  {
   "cell_type": "code",
   "execution_count": 3,
   "id": "5b669693",
   "metadata": {},
   "outputs": [
    {
     "name": "stdout",
     "output_type": "stream",
     "text": [
      "Enter value in kilometers: 10\n",
      "10.0 kilometer is is equal to 6.21371 mile \n"
     ]
    }
   ],
   "source": [
    "kilometers = float(input(\"Enter value in kilometers: \"))\n",
    "conv= 0.621371\n",
    "miles = kilometers * conv\n",
    "print(f\"{kilometers} kilometer is equal to {miles} mile \")"
   ]
  },
  {
   "cell_type": "markdown",
   "id": "a5ac0cf2",
   "metadata": {},
   "source": [
    "Q2. Write a Python program to convert Celsius to Fahrenheit?"
   ]
  },
  {
   "cell_type": "code",
   "execution_count": 4,
   "id": "5fb070c7",
   "metadata": {},
   "outputs": [
    {
     "name": "stdout",
     "output_type": "stream",
     "text": [
      "Enter value in celsius: 5\n",
      "5.0 celsius is equal to 41.0 fahrenheit \n"
     ]
    }
   ],
   "source": [
    "celsius = float(input(\"Enter value in celsius: \")) \n",
    "fahrenheit = (celsius * 1.8) + 32\n",
    "print(f\"{celsius} celsius is equal to {fahrenheit} fahrenheit \")"
   ]
  },
  {
   "cell_type": "markdown",
   "id": "d9b5dec0",
   "metadata": {},
   "source": [
    "Q3. Write a Python program to display calendar?"
   ]
  },
  {
   "cell_type": "code",
   "execution_count": 8,
   "id": "388a9ea6",
   "metadata": {},
   "outputs": [
    {
     "name": "stdout",
     "output_type": "stream",
     "text": [
      "Enter the year2022\n",
      "Enter the month8\n",
      "    August 2022\n",
      "Mo Tu We Th Fr Sa Su\n",
      " 1  2  3  4  5  6  7\n",
      " 8  9 10 11 12 13 14\n",
      "15 16 17 18 19 20 21\n",
      "22 23 24 25 26 27 28\n",
      "29 30 31\n",
      "\n"
     ]
    }
   ],
   "source": [
    "\n",
    "import calendar\n",
    "\n",
    "yy = int(input(\"Enter the year\"))  \n",
    "mm = int(input(\"Enter the month\"))    \n",
    "print(calendar.month(yy, mm))\n"
   ]
  },
  {
   "cell_type": "markdown",
   "id": "f879620f",
   "metadata": {},
   "source": [
    "Q4. Write a Python program to solve quadratic equation?"
   ]
  },
  {
   "cell_type": "code",
   "execution_count": 9,
   "id": "7c04cd6c",
   "metadata": {},
   "outputs": [
    {
     "name": "stdout",
     "output_type": "stream",
     "text": [
      "Enter your number4\n",
      "Enter your number7\n",
      "Enter your number8\n",
      "The solution are (-0.875-1.1110243021644486j) and (-0.875+1.1110243021644486j)\n"
     ]
    }
   ],
   "source": [
    "import cmath\n",
    "\n",
    "a = int(input(\"Enter your number\")) #a=!0 a is not equal to zero\n",
    "b = int(input(\"Enter your number\"))\n",
    "c = int(input(\"Enter your number\"))\n",
    "\n",
    "d = (b**2) - (4*a*c)\n",
    "\n",
    "s1 = (-b-cmath.sqrt(d))/(2*a)\n",
    "s2 = (-b+cmath.sqrt(d))/(2*a)\n",
    "\n",
    "print(f'The solution are {s1} and {s2}')"
   ]
  },
  {
   "cell_type": "markdown",
   "id": "02cccbac",
   "metadata": {},
   "source": [
    "Q5. Write a Python program to swap two variables without temp variable?"
   ]
  },
  {
   "cell_type": "code",
   "execution_count": 14,
   "id": "1880188d",
   "metadata": {},
   "outputs": [
    {
     "name": "stdout",
     "output_type": "stream",
     "text": [
      "Enter your number  of x8\n",
      "Enter your number of y5\n",
      "Before swapping: \n",
      "Value of x :  8  and y :  5\n",
      "After swapping: \n",
      "Value of x :  5  and y :  8\n"
     ]
    }
   ],
   "source": [
    "x = int(input(\"Enter your number  of x\"))\n",
    "y = int(input(\"Enter your number of y\"))\n",
    " \n",
    "print (\"Before swapping: \")\n",
    "print(\"Value of x : \", x, \" and y : \", y)\n",
    " \n",
    "# code to swap 'x' and 'y'\n",
    "x, y = y, x\n",
    " \n",
    "print (\"After swapping: \")\n",
    "print(\"Value of x : \", x, \" and y : \", y)"
   ]
  }
 ],
 "metadata": {
  "kernelspec": {
   "display_name": "Python 3 (ipykernel)",
   "language": "python",
   "name": "python3"
  },
  "language_info": {
   "codemirror_mode": {
    "name": "ipython",
    "version": 3
   },
   "file_extension": ".py",
   "mimetype": "text/x-python",
   "name": "python",
   "nbconvert_exporter": "python",
   "pygments_lexer": "ipython3",
   "version": "3.9.7"
  }
 },
 "nbformat": 4,
 "nbformat_minor": 5
}
